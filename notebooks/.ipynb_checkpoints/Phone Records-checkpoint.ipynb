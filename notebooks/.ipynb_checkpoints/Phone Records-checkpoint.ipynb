{
 "cells": [
  {
   "cell_type": "markdown",
   "metadata": {},
   "source": [
    "## Field Notebook: Phone Records\n",
    "\n",
    "<img src=\"http://dcewboipbvgi2.cloudfront.net/sites/default/files/styles/article_hero_image/public/articles/07112013_Wiretapping_article.jpg?itok=j4N06Zo1\" width=\"400px\"/>\n",
    "\n",
    "Information about phone history of the leading suspects (politicians) was found by The Agency, containing id (name), type, longitude, latitude and time of the call/text.\n",
    "\n",
    "Our field agents advise taking a look at where the suspects were around the time of the murder. Do all of them have alibies?\n",
    "\n",
    "<a href=\"The Q Branch.ipynb#mapping\"> Need help with mapping? </a>\n",
    "\n",
    "<a href=\"The Q Branch.ipynb#filtering\"> Need help with filtering? </a>"
   ]
  },
  {
   "cell_type": "code",
   "execution_count": 2,
   "metadata": {},
   "outputs": [],
   "source": [
    "import pandas as pd\n",
    "import plotly.express as px\n",
    "MAPBOX_TOKEN = 'pk.eyJ1IjoiY3NtaXRoZHMiLCJhIjoiY2sydHR2Z3p0MG9uejNucWNzNnl0NmFjbSJ9.M37tPcq3O5s41bpXW0dDGw'\n",
    "px.set_mapbox_access_token(MAPBOX_TOKEN)"
   ]
  },
  {
   "cell_type": "code",
   "execution_count": 3,
   "metadata": {},
   "outputs": [
    {
     "data": {
      "text/html": [
       "<div>\n",
       "<style scoped>\n",
       "    .dataframe tbody tr th:only-of-type {\n",
       "        vertical-align: middle;\n",
       "    }\n",
       "\n",
       "    .dataframe tbody tr th {\n",
       "        vertical-align: top;\n",
       "    }\n",
       "\n",
       "    .dataframe thead th {\n",
       "        text-align: right;\n",
       "    }\n",
       "</style>\n",
       "<table border=\"1\" class=\"dataframe\">\n",
       "  <thead>\n",
       "    <tr style=\"text-align: right;\">\n",
       "      <th></th>\n",
       "      <th>id</th>\n",
       "      <th>type</th>\n",
       "      <th>lon</th>\n",
       "      <th>lat</th>\n",
       "      <th>time</th>\n",
       "    </tr>\n",
       "  </thead>\n",
       "  <tbody>\n",
       "    <tr>\n",
       "      <th>0</th>\n",
       "      <td>Ancilla Tilia</td>\n",
       "      <td>call</td>\n",
       "      <td>4.875865</td>\n",
       "      <td>52.386179</td>\n",
       "      <td>2017-03-14 18:57:00</td>\n",
       "    </tr>\n",
       "    <tr>\n",
       "      <th>1</th>\n",
       "      <td>Kees vd Staaij</td>\n",
       "      <td>call</td>\n",
       "      <td>4.872918</td>\n",
       "      <td>52.385450</td>\n",
       "      <td>2017-03-14 18:57:00</td>\n",
       "    </tr>\n",
       "    <tr>\n",
       "      <th>2</th>\n",
       "      <td>Jan Roos</td>\n",
       "      <td>call</td>\n",
       "      <td>4.873239</td>\n",
       "      <td>52.385086</td>\n",
       "      <td>2017-03-14 19:02:00</td>\n",
       "    </tr>\n",
       "    <tr>\n",
       "      <th>3</th>\n",
       "      <td>Sylvana Simons</td>\n",
       "      <td>call</td>\n",
       "      <td>4.875326</td>\n",
       "      <td>52.386176</td>\n",
       "      <td>2017-03-14 19:02:00</td>\n",
       "    </tr>\n",
       "    <tr>\n",
       "      <th>4</th>\n",
       "      <td>Peter Plasman</td>\n",
       "      <td>call</td>\n",
       "      <td>4.871977</td>\n",
       "      <td>52.387635</td>\n",
       "      <td>2017-03-14 19:02:00</td>\n",
       "    </tr>\n",
       "  </tbody>\n",
       "</table>\n",
       "</div>"
      ],
      "text/plain": [
       "               id  type       lon        lat                 time\n",
       "0   Ancilla Tilia  call  4.875865  52.386179  2017-03-14 18:57:00\n",
       "1  Kees vd Staaij  call  4.872918  52.385450  2017-03-14 18:57:00\n",
       "2        Jan Roos  call  4.873239  52.385086  2017-03-14 19:02:00\n",
       "3  Sylvana Simons  call  4.875326  52.386176  2017-03-14 19:02:00\n",
       "4   Peter Plasman  call  4.871977  52.387635  2017-03-14 19:02:00"
      ]
     },
     "execution_count": 3,
     "metadata": {},
     "output_type": "execute_result"
    }
   ],
   "source": [
    "phone = pd.read_csv('../data/PhoneData.csv', delimiter='|')\n",
    "phone.head()"
   ]
  }
 ],
 "metadata": {
  "file_extension": ".py",
  "kernelspec": {
   "display_name": "Python 3",
   "language": "python",
   "name": "python3"
  },
  "language_info": {
   "codemirror_mode": {
    "name": "ipython",
    "version": 3
   },
   "file_extension": ".py",
   "mimetype": "text/x-python",
   "name": "python",
   "nbconvert_exporter": "python",
   "pygments_lexer": "ipython3",
   "version": "3.7.3"
  },
  "mimetype": "text/x-python",
  "name": "python",
  "npconvert_exporter": "python",
  "pygments_lexer": "ipython3",
  "version": 3
 },
 "nbformat": 4,
 "nbformat_minor": 4
}
