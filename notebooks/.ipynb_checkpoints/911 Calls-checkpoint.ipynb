{
 "cells": [
  {
   "cell_type": "markdown",
   "metadata": {},
   "source": [
    "## Field Notebook: 911 Calls\n",
    "<img src=\"http://www.wuft.org/news/files/2015/06/Reinblatt-911-operators.jpg\" width=\"400px\"/>\n",
    "\n",
    "The local EMS has provided you with phone calls placed to the emergency line around the time of the murder. \n",
    "\n",
    "Our field agents recommend looking at relevant calls around the time you think the murder happened.\n",
    "\n",
    "<a href=\"The Q Branch.ipynb#filtering\"> Need help with filtering? </a>\n",
    "\n",
    "<a href=\"The Q Branch.ipynb#mapping\"> Need help with mapping? </a>"
   ]
  },
  {
   "cell_type": "code",
   "execution_count": 8,
   "metadata": {},
   "outputs": [],
   "source": [
    "import pandas as pd\n",
    "import plotly.express as px\n",
    "MAPBOX_TOKEN = 'pk.eyJ1IjoiY3NtaXRoZHMiLCJhIjoiY2sydHR2Z3p0MG9uejNucWNzNnl0NmFjbSJ9.M37tPcq3O5s41bpXW0dDGw'\n",
    "px.set_mapbox_access_token(MAPBOX_TOKEN)"
   ]
  },
  {
   "cell_type": "code",
   "execution_count": 18,
   "metadata": {},
   "outputs": [],
   "source": [
    "# Read in the data\n",
    "calls = pd.read_csv('../data/911Calls.csv')\n",
    "calls.head()"
   ]
  }
 ],
 "metadata": {
  "kernelspec": {
   "display_name": "Python 3",
   "language": "python",
   "name": "python3"
  },
  "language_info": {
   "codemirror_mode": {
    "name": "ipython",
    "version": 3
   },
   "file_extension": ".py",
   "mimetype": "text/x-python",
   "name": "python",
   "nbconvert_exporter": "python",
   "pygments_lexer": "ipython3",
   "version": "3.7.3"
  }
 },
 "nbformat": 4,
 "nbformat_minor": 4
}
