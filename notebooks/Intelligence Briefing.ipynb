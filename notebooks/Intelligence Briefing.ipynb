{
 "cells": [
  {
   "cell_type": "markdown",
   "metadata": {},
   "source": [
    "<div style=\"background-image:url(https://www.onlygfx.com/wp-content/uploads/2017/12/top-secret-stamp-4.png);background-size:225px;background-repeat:no-repeat;background-position:center;\"><h2 style=\"font-family:courier;text-align:center;\"> <br/><br/><br/>INTELLIGENCE BRIEFING [YOUR EYES ONLY] <br/><br/><br/><br/></h2><p style=\"font-family:courier;\"> Roger Castricum, 34, <b>was found dead in the trunk of a burnt 2016 Honda Civic on the morning of March 15th, 2017</b>. Mr. Castricum was an investigative journalist for a large national paper. </p>\n",
    "</div>"
   ]
  },
  {
   "cell_type": "markdown",
   "metadata": {},
   "source": [
    "<img src=\"../images/casket.jpg\" width=\"400px\"/>\n",
    "\n",
    "<p style=\"font-family:courier;\"> Mr. Castricum had been undercover for months before his death. Because he was in deep cover, all we know from his communications is that he was investigating a corruption charge against an unknown leading politician in Amsterdam. </p>\n",
    "<br/>"
   ]
  },
  {
   "cell_type": "markdown",
   "metadata": {},
   "source": [
    "<p style=\"font-family:courier;\"> <img src=\"../images/dwdd_studio.jpg\" width=\"400px\" style=\"float:right;margin-left:20px;\"/>Early investigative work by other operatives have ascertained that <b>Mr. Castricum's car was seen at Studio Pauw en De Wereld Draait Door</b> (a famous talkshow recording studio in Amsterdam) during a highly-publicized political debate, on March 14th, 2017 (the day before his body was found). Because Mr. Castricum was nowhere to be found during the debate (and was not known to be attending the debate at all), every politician that attended the debate is suspected. </p>"
   ]
  },
  {
   "cell_type": "markdown",
   "metadata": {},
   "source": [
    "<br/>"
   ]
  },
  {
   "cell_type": "markdown",
   "metadata": {},
   "source": [
    "<p style=\"font-family:courier;\"> <img src=\"../images/vondelpark.jpg\" width=\"400px\" style=\"float:left;margin-right:50px;\"/><br/><br/><br/><br/><br/> The burnt vehicle was found in a parking lot by Vondelpark, southwest of the city. </p>"
   ]
  },
  {
   "cell_type": "markdown",
   "metadata": {},
   "source": [
    "<br/><br/>\n",
    "\n",
    "\n",
    "\n",
    "<p style=\"font-family:courier;\"> A number of weapons were found in the burnt car; we suspect that this was for the purpose of confuse authorities. Nonetheless, we believe one or more of the following weapons was used in the actual murder. </p>\n",
    "\n",
    "<img src=\"../images/weapons.jpg\"/>"
   ]
  },
  {
   "cell_type": "markdown",
   "metadata": {},
   "source": [
    "<h4 style=\"font-family:courier;text-align:center;\"> This is all the field intelligence we have gathered. It is up to you to bring justice to the corrupt politician who killed Mr. Castricum. </h4>\n",
    "\n",
    "<h4 style=\"font-family:courier;\"> The Agency would like the following questions answered about the murder: </h4>\n",
    "<li style=\"font-family:courier;\"> Who was the murderer? </li>\n",
    "<li style=\"font-family:courier;\"> When exactly did the murder happen? </li>\n",
    "<li style=\"font-family:courier;\"> Where did the events of the murder happen? </li>\n",
    "<li style=\"font-family:courier;\"> Which weapon(s) did the murderer use? </li>\n",
    "<li style=\"font-family:courier;\"> What is a rough timeline of the events of the murder? </li>\n",
    "\n",
    "<hr/>"
   ]
  },
  {
   "cell_type": "markdown",
   "metadata": {},
   "source": [
    "<h5 style=\"font-family:courier;\"> There are a number of notebooks our field agents have primed for analysis, which may aid in your investigation. </h5>"
   ]
  },
  {
   "cell_type": "markdown",
   "metadata": {},
   "source": [
    "<h5 style=\"font-family:courier;\"><a href=\"911 Calls.ipynb\">Notebook: 911 Calls</a></h5>\n",
    "<p style=\"font-family:courier;\"> using <span style=\"color:red;\">911Calls.csv</span> </p>\n",
    "\n",
    "<p style=\"font-family:courier;\"> The Emergency Services department supplied us with the log of emergency calls in the days around the murder, containing dates, times, latitudes, longitudes, and the emergency type. </p>\n"
   ]
  },
  {
   "cell_type": "markdown",
   "metadata": {},
   "source": [
    "<h5 style=\"font-family:courier;\"><a href=\"Car GPS.ipynb\">Notebook: GPS from Mr. Castricum's Car</a></h5>\n",
    "<p style=\"font-family:courier;\"> using <span style=\"color:red;\">CarGPS.csv</span> </p>\n",
    "\n",
    "<p style=\"font-family:courier;\"> The burnt car had an accelerometer which contains driving history of times, longitudes, and latitudes. </p>"
   ]
  },
  {
   "cell_type": "markdown",
   "metadata": {},
   "source": [
    "<h5 style=\"font-family:courier;\"><a href=\"Phone Records.ipynb\">Notebook: Phone Records</a></h5>\n",
    "<p style=\"font-family:courier;\"> using <span style=\"color:red;\">PhoneData.csv</span> </p>\n",
    "\n",
    "<p style=\"font-family:courier;\"> Information about phone history of the leading suspects (politicians) was found, containing id (name), type, longitude, latitude and time of the call/text. </p>"
   ]
  },
  {
   "cell_type": "markdown",
   "metadata": {},
   "source": [
    "<h5 style=\"font-family:courier;\"><a href=\"Weapon Samples.ipynb\">Notebook: Weapon Samples</a></h5>\n",
    "<p style=\"font-family:courier;\"> using <span style=\"color:red;\">MurderData.csv</span>, <span style=\"color:red;\">WeaponData.csv</span> </p>\n",
    "\n",
    "<p style=\"font-family:courier;\"> Two samples were found on the victim, containing different levels of the following chemical components RI, Al, Mn, Pb, Si, K, Cu, Ag, and Fe. These samples can be found in <span style=\"color:red;\">MurderData.csv</span></p>\n",
    "\n",
    "<p style=\"font-family:courier;\"> Chemical samples of various murder weapons in previous crimes seen by the Amsterdam Police Department, including “Type” – the type of the murder weapon. These samples can be found in <span style=\"color:red;\">WeaponData.csv</span></p>"
   ]
  },
  {
   "cell_type": "markdown",
   "metadata": {},
   "source": [
    "<hr/>"
   ]
  },
  {
   "cell_type": "markdown",
   "metadata": {},
   "source": [
    "<p style=\"font-family:courier;\"> If you would like to head off into the field alone, feel free. However, if you are a beginner field data scientist, every useful <s>gadget</s>function you may need is available over at <a href=\"The Q Branch.ipynb\">The Q Branch</a>. Useful functions referenced in The Q Branch can also be found within Field Notebooks.</p>\n",
    "<hr/>"
   ]
  },
  {
   "cell_type": "markdown",
   "metadata": {},
   "source": [
    "<p style=\"font-family:courier;text-align:center;\">When you think your team has solved the murder, please correspond with our intelligence team by filling out <a href=\"https://forms.gle/c9SCBWRAGMAn1LTA8\">this form.</a> The first data science team to submit a credible narrative about the murder will recieve a $15 bounty.</p>"
   ]
  }
 ],
 "metadata": {
  "kernelspec": {
   "display_name": "Python 3",
   "language": "python",
   "name": "python3"
  },
  "language_info": {
   "codemirror_mode": {
    "name": "ipython",
    "version": 3
   },
   "file_extension": ".py",
   "mimetype": "text/x-python",
   "name": "python",
   "nbconvert_exporter": "python",
   "pygments_lexer": "ipython3",
   "version": "3.7.3"
  }
 },
 "nbformat": 4,
 "nbformat_minor": 4
}
