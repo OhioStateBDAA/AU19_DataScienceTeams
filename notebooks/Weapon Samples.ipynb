{
 "cells": [
  {
   "cell_type": "markdown",
   "metadata": {},
   "source": [
    "## Field Notebook: Murder Weapons\n",
    "\n",
    "<img src=\"../images/weapons.jpg\"/>\n",
    "\n",
    "Two samples were found on the victim, containing different levels of the following chemical components RI, Al, Mn, Pb, Si, K, Cu, Ag, and Fe. These samples can be found in <span style=\"color:red;\">MurderData.csv</span>\n",
    "\n",
    "Chemical samples of various murder weapons in previous crimes seen by the Amsterdam Police Department, including “Type” – the type of the murder weapon. These samples can be found in <span style=\"color:red;\">WeaponData.csv</span>"
   ]
  },
  {
   "cell_type": "markdown",
   "metadata": {},
   "source": [
    "Our Machine Learning experts recommend building a Random Forest, using the samples found in previous crimes as training data, with the samples found on Mr. Castricum as the prediction target.\n",
    "\n",
    "<a href=\"The Q Branch.ipynb#random-forests\">Need help?</a>"
   ]
  },
  {
   "cell_type": "code",
   "execution_count": null,
   "metadata": {},
   "outputs": [],
   "source": [
    "import pandas as pd\n",
    "from sklearn import RandomForestClassifier"
   ]
  },
  {
   "cell_type": "code",
   "execution_count": null,
   "metadata": {},
   "outputs": [],
   "source": [
    "weapons = pd.read_csv('../data/WeaponData.csv')\n",
    "murder_samples = pd.read_csv('../data/MurderData.csv')"
   ]
  },
  {
   "cell_type": "code",
   "execution_count": null,
   "metadata": {},
   "outputs": [],
   "source": [
    "weapons.head()"
   ]
  },
  {
   "cell_type": "code",
   "execution_count": null,
   "metadata": {},
   "outputs": [],
   "source": [
    "murder_samples.head()"
   ]
  }
 ],
 "metadata": {
  "kernelspec": {
   "display_name": "Python 3",
   "language": "python",
   "name": "python3"
  },
  "language_info": {
   "codemirror_mode": {
    "name": "ipython",
    "version": 3
   },
   "file_extension": ".py",
   "mimetype": "text/x-python",
   "name": "python",
   "nbconvert_exporter": "python",
   "pygments_lexer": "ipython3",
   "version": "3.7.3"
  }
 },
 "nbformat": 4,
 "nbformat_minor": 4
}
