{
 "cells": [
  {
   "cell_type": "markdown",
   "metadata": {},
   "source": [
    "## Field Notebook: GPS from Mr. Castricum's Car\n",
    "\n",
    "<img src=\"https://static.garmincdn.com/en_US/store/automotive/subcategory/cars/signoff_car_gps_navigation.jpg\" width=\"400px\"/>\n",
    "\n",
    "The burnt car had an accelerometer which contains driving history of times, longitudes, and latitudes.\n",
    "\n",
    "Our field agents recommend that you look at the driving data around the time of the murder.\n",
    "\n",
    "<a href=\"The Q Branch.ipynb#mapping\"> Need help with mapping? </a>\n",
    "\n",
    "<a href=\"The Q Branch.ipynb#date-filtering\"> Need help with date filtering? </a>"
   ]
  },
  {
   "cell_type": "code",
   "execution_count": null,
   "metadata": {},
   "outputs": [],
   "source": [
    "import pandas as pd\n",
    "import plotly.express as px\n",
    "MAPBOX_TOKEN = 'pk.eyJ1IjoiY3NtaXRoZHMiLCJhIjoiY2sydHR2Z3p0MG9uejNucWNzNnl0NmFjbSJ9.M37tPcq3O5s41bpXW0dDGw'\n",
    "px.set_mapbox_access_token(MAPBOX_TOKEN)"
   ]
  },
  {
   "cell_type": "code",
   "execution_count": 3,
   "metadata": {},
   "outputs": [],
   "source": [
    "gps = pd.read_csv('../data/GPSData.csv')\n",
    "gps.time = pd.to_datetime(gps.time, format='%d-%m-%Y %H:%M:%S')"
   ]
  }
 ],
 "metadata": {
  "kernelspec": {
   "display_name": "Python 3",
   "language": "python",
   "name": "python3"
  },
  "language_info": {
   "codemirror_mode": {
    "name": "ipython",
    "version": 3
   },
   "file_extension": ".py",
   "mimetype": "text/x-python",
   "name": "python",
   "nbconvert_exporter": "python",
   "pygments_lexer": "ipython3",
   "version": "3.7.3"
  }
 },
 "nbformat": 4,
 "nbformat_minor": 4
}
